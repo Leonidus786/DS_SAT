{
 "cells": [
  {
   "cell_type": "code",
   "execution_count": 4,
   "id": "295c7861-4713-464f-9585-757e111576cd",
   "metadata": {},
   "outputs": [],
   "source": [
    "# Assigning Values to multiple variables\n",
    "a, b, c = 1, 2, 3"
   ]
  },
  {
   "cell_type": "code",
   "execution_count": 2,
   "id": "511a61b7-5f6b-4b51-b626-103790ae0b6d",
   "metadata": {},
   "outputs": [
    {
     "name": "stdout",
     "output_type": "stream",
     "text": [
      "1\n",
      "2\n",
      "3\n"
     ]
    }
   ],
   "source": [
    "print(a)\n",
    "print(b)\n",
    "print(c)"
   ]
  },
  {
   "cell_type": "code",
   "execution_count": 3,
   "id": "6cfe175c-836f-463e-8964-fa106b54add2",
   "metadata": {},
   "outputs": [
    {
     "name": "stdout",
     "output_type": "stream",
     "text": [
      "<class 'int'>\n",
      "140709029135144\n"
     ]
    }
   ],
   "source": [
    "# type()\n",
    "print(type(a))\n",
    "\n",
    "# id()\n",
    "print(id(a))"
   ]
  },
  {
   "cell_type": "code",
   "execution_count": 5,
   "id": "9b3000ae-b987-4a66-8df1-071b22b814b4",
   "metadata": {},
   "outputs": [
    {
     "name": "stdout",
     "output_type": "stream",
     "text": [
      "1\n"
     ]
    }
   ],
   "source": [
    "print(a)"
   ]
  },
  {
   "cell_type": "code",
   "execution_count": 6,
   "id": "255ddf96-08e8-4c8d-b43e-3929604591b6",
   "metadata": {},
   "outputs": [
    {
     "data": {
      "text/plain": [
       "int"
      ]
     },
     "execution_count": 6,
     "metadata": {},
     "output_type": "execute_result"
    }
   ],
   "source": [
    "type(a)"
   ]
  },
  {
   "cell_type": "code",
   "execution_count": 7,
   "id": "55e78290-b7af-403a-9f3e-71dbf2589152",
   "metadata": {},
   "outputs": [
    {
     "data": {
      "text/plain": [
       "140709029135176"
      ]
     },
     "execution_count": 7,
     "metadata": {},
     "output_type": "execute_result"
    }
   ],
   "source": [
    "id(b)"
   ]
  },
  {
   "cell_type": "code",
   "execution_count": 24,
   "id": "59749999-cdd9-4c8d-9387-cde2a43aef8f",
   "metadata": {},
   "outputs": [
    {
     "name": "stdout",
     "output_type": "stream",
     "text": [
      "8\n"
     ]
    }
   ],
   "source": [
    "# String -- Set of characters are called string.\n",
    "# Anything betwwen the quotes is treated as string in python.\n",
    "\n",
    "My_Name = \"Abhishek\"\n",
    "Name_2 = 'Amit'\n",
    "Name_3 = \"\"\"Kuch Nam\"\"\"\n",
    "Kuch_Alg = \"45\"\n",
    "\n",
    "# print(type(Kuch_Alg))\n",
    "# print(type(Name_3))\n",
    "# print(type(Name_2))\n",
    "# print(type(My_Name))\n",
    "\n",
    "# len() --> length of the string.\n",
    "print(len(My_Name))"
   ]
  },
  {
   "cell_type": "code",
   "execution_count": 12,
   "id": "89a63c0b-ae3b-4ed0-a8fd-084ab2accdd9",
   "metadata": {},
   "outputs": [
    {
     "name": "stdout",
     "output_type": "stream",
     "text": [
      "45\n",
      "<class 'str'>\n"
     ]
    }
   ],
   "source": [
    "# str()\n",
    "d_1 = str(45)\n",
    "\n",
    "print(d_1)\n",
    "print(type(d_1))"
   ]
  },
  {
   "cell_type": "code",
   "execution_count": 13,
   "id": "ab79c58f-3411-4658-ba39-c2155ae1b149",
   "metadata": {},
   "outputs": [
    {
     "name": "stdout",
     "output_type": "stream",
     "text": [
      "<class 'int'>\n"
     ]
    }
   ],
   "source": [
    "# Numeric Type -- > \n",
    "# 1. Integers --> int()\n",
    "\n",
    "My_No = 7728041227\n",
    "print(type(My_No))"
   ]
  },
  {
   "cell_type": "code",
   "execution_count": 14,
   "id": "a5d8fa9d-28df-4ee6-9158-75cc49b177e8",
   "metadata": {},
   "outputs": [
    {
     "name": "stdout",
     "output_type": "stream",
     "text": [
      "<class 'int'>\n"
     ]
    }
   ],
   "source": [
    "My_2nd_No = int(9328566144)\n",
    "print(type(My_2nd_No))"
   ]
  },
  {
   "cell_type": "code",
   "execution_count": 16,
   "id": "d0d9f308-8068-47ac-addb-9c87be93652d",
   "metadata": {},
   "outputs": [
    {
     "name": "stdout",
     "output_type": "stream",
     "text": [
      "<class 'float'>\n",
      "<class 'float'>\n"
     ]
    }
   ],
   "source": [
    "# 2. floats --> float() also known as fractions or decimals in mathematics.\n",
    "# Resource --> https://www.mathsisfun.com/decimals.html\n",
    "\n",
    "My_floats = 75.682\n",
    "pi = 3.141\n",
    "\n",
    "print(type(pi))\n",
    "print(type(My_floats))"
   ]
  },
  {
   "cell_type": "code",
   "execution_count": 18,
   "id": "f507ef8d-2501-4257-9633-838017888195",
   "metadata": {},
   "outputs": [
    {
     "name": "stdout",
     "output_type": "stream",
     "text": [
      "<class 'complex'>\n",
      "<class 'complex'>\n"
     ]
    }
   ],
   "source": [
    "# 3. complex ---> https://www.mathsisfun.com/numbers/complex-numbers.html\n",
    "\n",
    "My_Complex = 3 + 2j\n",
    "print(type(My_Complex))\n",
    "\n",
    "e = 2j\n",
    "print(type(e))"
   ]
  },
  {
   "cell_type": "code",
   "execution_count": 25,
   "id": "4678e959-828d-43f1-b88c-b1ecbf9d6237",
   "metadata": {},
   "outputs": [
    {
     "name": "stdout",
     "output_type": "stream",
     "text": [
      "[True, 'Sapna', 'Amit', 12, 3.5, (3+5j)]\n",
      "<class 'list'>\n",
      "6\n"
     ]
    }
   ],
   "source": [
    "# List --> list()\n",
    "# items will be in square brackets and separated by a comma.\n",
    "\n",
    "My_List = [True, \"Sapna\", \"Amit\", 12, 3.5, 3+5j]\n",
    "print(My_List)\n",
    "print(type(My_List))\n",
    "print(len(My_List))"
   ]
  },
  {
   "cell_type": "code",
   "execution_count": 21,
   "id": "ff9008aa-c0b1-4e69-b6e9-9b865a275a66",
   "metadata": {},
   "outputs": [
    {
     "name": "stdout",
     "output_type": "stream",
     "text": [
      "['apple', 'banana', 'cherry']\n",
      "<class 'list'>\n"
     ]
    }
   ],
   "source": [
    "x = list((\"apple\", \"banana\", \"cherry\"))\n",
    "print(x)\n",
    "print(type(x))"
   ]
  },
  {
   "cell_type": "code",
   "execution_count": 26,
   "id": "6f22840d-84df-4a22-aabd-6f509b11e8fe",
   "metadata": {},
   "outputs": [
    {
     "name": "stdout",
     "output_type": "stream",
     "text": [
      "(True, 'Sapna', 'Amit', 12, 3.5, (3+5j))\n",
      "<class 'tuple'>\n"
     ]
    }
   ],
   "source": [
    "# Tuples -- tuple()\n",
    "\n",
    "My_Tuple = (True, \"Sapna\", \"Amit\", 12, 3.5, 3+5j)\n",
    "\n",
    "print(My_Tuple)\n",
    "print(type(My_Tuple))"
   ]
  },
  {
   "cell_type": "code",
   "execution_count": 27,
   "id": "5f56b4ef-7a71-4e91-aeb2-e6cef7210a33",
   "metadata": {},
   "outputs": [
    {
     "name": "stdout",
     "output_type": "stream",
     "text": [
      "(True, 'Sapna', 'Amit', 12, 3.5, (3+5j))\n",
      "<class 'tuple'>\n"
     ]
    }
   ],
   "source": [
    "y = tuple((True, \"Sapna\", \"Amit\", 12, 3.5, 3+5j))\n",
    "\n",
    "print(y)\n",
    "print(type(y))"
   ]
  },
  {
   "cell_type": "code",
   "execution_count": 29,
   "id": "156b34f0-2700-4548-8996-7e99278ea122",
   "metadata": {},
   "outputs": [
    {
     "name": "stdout",
     "output_type": "stream",
     "text": [
      "<class 'tuple'>\n"
     ]
    }
   ],
   "source": [
    "z = (\"Manish\",)\n",
    "print(type(z))"
   ]
  },
  {
   "cell_type": "code",
   "execution_count": 30,
   "id": "8919a7f6-15a7-4d23-8107-e1368e669f14",
   "metadata": {},
   "outputs": [
    {
     "name": "stdout",
     "output_type": "stream",
     "text": [
      "range(0, 6)\n",
      "<class 'range'>\n"
     ]
    }
   ],
   "source": [
    "f = range(6)\n",
    "\n",
    "print(f)\n",
    "print(type(f))"
   ]
  },
  {
   "cell_type": "code",
   "execution_count": 32,
   "id": "71d230db-d8ca-4605-80f8-51345d9fdf02",
   "metadata": {},
   "outputs": [
    {
     "name": "stdout",
     "output_type": "stream",
     "text": [
      "<class 'dict'>\n",
      "{'key': 'value', 'Name': 'Abhishek', 'Address': 'New Delhi', 'Age': 30}\n"
     ]
    }
   ],
   "source": [
    "# dictionary -- dict()\n",
    "\n",
    "My_dict = {'key':'value','Name':\"Abhishek\", \"Address\":'New Delhi', \"Age\": 30}\n",
    "\n",
    "print(type(My_dict))\n",
    "print(My_dict)"
   ]
  },
  {
   "cell_type": "code",
   "execution_count": 33,
   "id": "e8acb712-a0a8-4d88-aeee-18e46415d9b6",
   "metadata": {},
   "outputs": [
    {
     "name": "stdout",
     "output_type": "stream",
     "text": [
      "{'name': 'John', 'age': 36}\n",
      "<class 'dict'>\n"
     ]
    }
   ],
   "source": [
    "g = dict(name=\"John\", age=36)\n",
    "\n",
    "print(g)\n",
    "print(type(g))"
   ]
  },
  {
   "cell_type": "code",
   "execution_count": 36,
   "id": "22a03bce-6936-4ce1-894c-355018d9e1e5",
   "metadata": {},
   "outputs": [
    {
     "name": "stdout",
     "output_type": "stream",
     "text": [
      "{'Sapna', True, (3+5j), 3.5, 'Amit', 12}\n",
      "<class 'set'>\n"
     ]
    }
   ],
   "source": [
    "# sets -- set()\n",
    "\n",
    "My_Set = {True, \"Sapna\", \"Amit\", 12, 3.5, 3+5j}\n",
    "\n",
    "print(My_Set)\n",
    "\n",
    "print(type(My_Set))"
   ]
  },
  {
   "cell_type": "code",
   "execution_count": 37,
   "id": "9d1e2d69-3c96-4a6f-a92b-401e3b4600a3",
   "metadata": {},
   "outputs": [
    {
     "name": "stdout",
     "output_type": "stream",
     "text": [
      "<class 'set'>\n",
      "{'apple', 'cherry', 'banana'}\n"
     ]
    }
   ],
   "source": [
    "h = set((\"apple\", \"banana\", \"cherry\"))\n",
    "print(type(h))\n",
    "print(h)"
   ]
  },
  {
   "cell_type": "code",
   "execution_count": 38,
   "id": "26904b75-d8f9-4284-98d9-9f5317afe18c",
   "metadata": {},
   "outputs": [
    {
     "name": "stdout",
     "output_type": "stream",
     "text": [
      "frozenset({'apple', 'cherry', 'banana'})\n",
      "<class 'frozenset'>\n"
     ]
    }
   ],
   "source": [
    "i = frozenset({\"apple\", \"banana\", \"cherry\"})\n",
    "\n",
    "print(i)\n",
    "print(type(i))"
   ]
  },
  {
   "cell_type": "code",
   "execution_count": 39,
   "id": "aa85c573-f45b-4bf5-82eb-a5455c73c1e4",
   "metadata": {},
   "outputs": [
    {
     "name": "stdout",
     "output_type": "stream",
     "text": [
      "True\n",
      "<class 'bool'>\n"
     ]
    }
   ],
   "source": [
    "# Booleans -- bool()\n",
    "\n",
    "j = True\n",
    "k = False\n",
    "\n",
    "print(j)\n",
    "print(type(k))"
   ]
  },
  {
   "cell_type": "code",
   "execution_count": 41,
   "id": "99f6e293-4b2d-4403-87e5-03f3152df1cb",
   "metadata": {},
   "outputs": [
    {
     "name": "stdout",
     "output_type": "stream",
     "text": [
      "False\n",
      "<class 'bool'>\n"
     ]
    }
   ],
   "source": [
    "l = bool(0)\n",
    "print(l)\n",
    "print(type(l))"
   ]
  },
  {
   "cell_type": "code",
   "execution_count": 43,
   "id": "dbe6455b-3ec5-46ef-b2b3-c19f33ec4e67",
   "metadata": {},
   "outputs": [
    {
     "name": "stdout",
     "output_type": "stream",
     "text": [
      "True\n",
      "<class 'bool'>\n"
     ]
    }
   ],
   "source": [
    "m = bool(45)\n",
    "\n",
    "print(m)\n",
    "print(type(m))"
   ]
  }
 ],
 "metadata": {
  "kernelspec": {
   "display_name": "Python 3 (ipykernel)",
   "language": "python",
   "name": "python3"
  },
  "language_info": {
   "codemirror_mode": {
    "name": "ipython",
    "version": 3
   },
   "file_extension": ".py",
   "mimetype": "text/x-python",
   "name": "python",
   "nbconvert_exporter": "python",
   "pygments_lexer": "ipython3",
   "version": "3.11.7"
  }
 },
 "nbformat": 4,
 "nbformat_minor": 5
}
