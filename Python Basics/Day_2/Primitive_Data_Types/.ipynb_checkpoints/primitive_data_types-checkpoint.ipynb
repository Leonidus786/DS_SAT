{
 "cells": [
  {
   "cell_type": "code",
   "execution_count": 2,
   "id": "e9ad5ef3-a888-4023-90f4-0a80011d06a3",
   "metadata": {},
   "outputs": [
    {
     "name": "stdout",
     "output_type": "stream",
     "text": [
      "A\n",
      "A\n"
     ]
    }
   ],
   "source": [
    "print(\"Amit\"[0])\n",
    "print(\"Amit\"[-4])"
   ]
  },
  {
   "cell_type": "code",
   "execution_count": 4,
   "id": "1378d343-f36b-4d4b-a2ff-04b3c131f961",
   "metadata": {},
   "outputs": [
    {
     "name": "stdout",
     "output_type": "stream",
     "text": [
      "H\n",
      "123345\n"
     ]
    }
   ],
   "source": [
    "#Strings, Integers, Floats and Booleans\n",
    "\n",
    "# Strings - This is just a set of characters.\n",
    "\n",
    "# \"Hello\" #This word Hello is comprised of these five characters strung together.\n",
    "\n",
    "# And we always know that strings, when we create them, We have to create them with double/single quotes around.\n",
    "\n",
    "# Now because this is a string of characters, we can actually pull out each character individually.\n",
    "# So we could , for example instead of just writing hello, we can add some square brackets.\n",
    "# And inside the square brackets, we can put the index or the position of the character that we want.\n",
    "\n",
    "# For example if I wanted to have the first character out of this word hello, I would put zero right here.\n",
    "\n",
    "print(\"Hello\"[0])\n",
    "\n",
    "# It's really important to remember that programmers always start counting from zero.\n",
    "# because we work with binary -- zeroes and ones.\n",
    "\n",
    "# This method of pulling out a particular element from a string is called subscripting.\n",
    "# And the numbers in between the square brackets determines which character you are going to pull out.\n",
    "# So by using these square brackets and putting a number inside, we're able to dissect\n",
    "# our string and pull out individual characters as and when we need it.\n",
    "\n",
    "print(\"123\" + \"345\")\n",
    "# this just concatenated these two strings.\n",
    "\n",
    "# As long as these numbers are kept inside these double quotes, then this is \n",
    "# not treated as a number by the computer."
   ]
  },
  {
   "cell_type": "code",
   "execution_count": 4,
   "id": "6c6c9f0d-4a04-47a2-8ee3-ea94edea0de1",
   "metadata": {},
   "outputs": [
    {
     "name": "stdout",
     "output_type": "stream",
     "text": [
      "M\n"
     ]
    }
   ],
   "source": [
    "Name = \"Manish\"\n",
    "print(Name[0])"
   ]
  },
  {
   "cell_type": "code",
   "execution_count": 6,
   "id": "6b67a2c3-b6c3-4e44-896b-5e49dbc32834",
   "metadata": {},
   "outputs": [
    {
     "name": "stdout",
     "output_type": "stream",
     "text": [
      "468\n",
      "342654896\n"
     ]
    }
   ],
   "source": [
    "# Integer -- this is programming lingo for just whole numbers, numbers without any decimal places.\n",
    "print(123+345)\n",
    "\n",
    "# just as we have some useful things we can do with strings.\n",
    "# There's some really handy things we can do with integers.\n",
    "# Commonly when we write large numbers, at least in the UK or in the US, we'd like\n",
    "# to put commas in between the thousands.\n",
    "# ex. 342,654,896\n",
    "\n",
    "# In python we can replace these commas simply with underscore and it will be\n",
    "# interpreted by the computer as if you had written this.\n",
    "# So the computer actually removes those underscores and ignores it.\n",
    "# The benefit is just for us humans to be able to visualize it more easily.\n",
    "\n",
    "print(342_654_896)\n",
    "\n",
    "# So I mentioned that all whole numbers no matter if they're positive or negative,\n",
    "# are called integers in programming."
   ]
  },
  {
   "cell_type": "code",
   "execution_count": 9,
   "id": "4c41e72d-6c7e-4f6f-8452-13baf8f87fa9",
   "metadata": {},
   "outputs": [
    {
     "name": "stdout",
     "output_type": "stream",
     "text": [
      "3.14159\n"
     ]
    }
   ],
   "source": [
    "# So what do you call it when you actually have decimal places?\n",
    "# well, they are called a float and this is short for a floating-point number.\n",
    "# So, for example, if you had, the numbers of PI, you have 3.14159 and this,\n",
    "# because it has a decimal place, is now a float data type.\n",
    "\n",
    "print(3.14159)\n",
    "\n",
    "# So if you think of the decimal point as being able to float around the number\n",
    "# because it could occur at any point, then you've got yourself a floating point number."
   ]
  },
  {
   "cell_type": "code",
   "execution_count": 10,
   "id": "543d5e5d-88d0-42ac-8361-d2e7e2a908b1",
   "metadata": {},
   "outputs": [
    {
     "name": "stdout",
     "output_type": "stream",
     "text": [
      "True\n",
      "False\n"
     ]
    }
   ],
   "source": [
    "# Boolean\n",
    "\n",
    "# Now the final data type is something called a boolean.\n",
    "# and this is very simple. It only has two possible values, True or False.\n",
    "\n",
    "print(True)\n",
    "print(False)\n",
    "\n",
    "# Now note how these values begin with a capital T or capital F and they don't have\n",
    "# any quotation marks around them or anything.\n",
    "# So this is actaully a data type which is going to be used a lot in your programs\n",
    "# to test if something is true, if something is false and for your program to respond accordingly."
   ]
  },
  {
   "cell_type": "code",
   "execution_count": 1,
   "id": "b58ec75a-4f65-443b-a4b3-9ceef1671187",
   "metadata": {},
   "outputs": [
    {
     "name": "stdout",
     "output_type": "stream",
     "text": [
      "Sapna\n"
     ]
    }
   ],
   "source": [
    "print(\"Sapna\")"
   ]
  },
  {
   "cell_type": "code",
   "execution_count": 2,
   "id": "114d4559-01ae-44d3-aee2-1c5939d3c0d2",
   "metadata": {},
   "outputs": [
    {
     "name": "stdout",
     "output_type": "stream",
     "text": [
      "Manish\n"
     ]
    }
   ],
   "source": [
    "print('Manish')"
   ]
  },
  {
   "cell_type": "code",
   "execution_count": 3,
   "id": "af4d9e29-a831-49e7-8871-6a4b9dea0071",
   "metadata": {},
   "outputs": [
    {
     "name": "stdout",
     "output_type": "stream",
     "text": [
      "S\n"
     ]
    }
   ],
   "source": [
    "print(\"Sapna\"[0])"
   ]
  },
  {
   "cell_type": "code",
   "execution_count": 4,
   "id": "fff3bf35-7b7f-44a8-96a8-565162039344",
   "metadata": {},
   "outputs": [
    {
     "name": "stdout",
     "output_type": "stream",
     "text": [
      "p\n"
     ]
    }
   ],
   "source": [
    "print(\"Sapna\"[-3])"
   ]
  },
  {
   "cell_type": "code",
   "execution_count": 5,
   "id": "f9f6eb3a-091f-4392-9bdc-0fa3dea582d9",
   "metadata": {},
   "outputs": [],
   "source": [
    "a = \"Abhishek\""
   ]
  },
  {
   "cell_type": "code",
   "execution_count": 6,
   "id": "ff716052-dd6c-4718-a87c-4aec4a1679ce",
   "metadata": {},
   "outputs": [
    {
     "name": "stdout",
     "output_type": "stream",
     "text": [
      "8\n"
     ]
    }
   ],
   "source": [
    "print(len(a))"
   ]
  },
  {
   "cell_type": "code",
   "execution_count": 7,
   "id": "7d4568e6-2549-4b0a-8263-839207ff0671",
   "metadata": {},
   "outputs": [
    {
     "name": "stdout",
     "output_type": "stream",
     "text": [
      "AbhiShek\n"
     ]
    }
   ],
   "source": [
    "print(\"Abhi\" + \"Shek\")"
   ]
  },
  {
   "cell_type": "code",
   "execution_count": 9,
   "id": "c4f9bfce-812c-453e-8b31-4fabe7f31abb",
   "metadata": {},
   "outputs": [
    {
     "name": "stdout",
     "output_type": "stream",
     "text": [
      "Abhi5\n"
     ]
    }
   ],
   "source": [
    "print(\"Abhi\" + '5')"
   ]
  },
  {
   "cell_type": "code",
   "execution_count": 10,
   "id": "6455b9df-7906-4592-9c23-74e8db4081c0",
   "metadata": {},
   "outputs": [
    {
     "name": "stdout",
     "output_type": "stream",
     "text": [
      "123345\n"
     ]
    }
   ],
   "source": [
    "print(\"123\" + \"345\")"
   ]
  },
  {
   "cell_type": "code",
   "execution_count": 11,
   "id": "d16c06ea-7256-4780-b181-a543c85c3afb",
   "metadata": {},
   "outputs": [
    {
     "name": "stdout",
     "output_type": "stream",
     "text": [
      "468\n"
     ]
    }
   ],
   "source": [
    "print(123+345)"
   ]
  },
  {
   "cell_type": "code",
   "execution_count": 12,
   "id": "45126c50-974a-4f3e-906b-7369cb547253",
   "metadata": {},
   "outputs": [
    {
     "name": "stdout",
     "output_type": "stream",
     "text": [
      "342654896100\n"
     ]
    }
   ],
   "source": [
    "print(342_654_896_100)"
   ]
  },
  {
   "cell_type": "code",
   "execution_count": 13,
   "id": "9114ab08-bc91-4379-bf83-b55b1e720b2e",
   "metadata": {},
   "outputs": [
    {
     "name": "stdout",
     "output_type": "stream",
     "text": [
      "<class 'int'>\n",
      "<class 'float'>\n",
      "<class 'str'>\n"
     ]
    }
   ],
   "source": [
    "a = 10\n",
    "b = 100.98\n",
    "c = \"Amit\"\n",
    "\n",
    "print(type(a))\n",
    "print(type(b))\n",
    "print(type(c))"
   ]
  },
  {
   "cell_type": "code",
   "execution_count": 14,
   "id": "7479677b-fad7-4798-a35a-e15c442c951a",
   "metadata": {},
   "outputs": [],
   "source": [
    "d = 2 + 3j"
   ]
  },
  {
   "cell_type": "code",
   "execution_count": 15,
   "id": "253f0227-9be3-49d1-bc52-138d84abffd0",
   "metadata": {},
   "outputs": [
    {
     "name": "stdout",
     "output_type": "stream",
     "text": [
      "<class 'complex'>\n"
     ]
    }
   ],
   "source": [
    "print(type(d))"
   ]
  }
 ],
 "metadata": {
  "kernelspec": {
   "display_name": "Python 3 (ipykernel)",
   "language": "python",
   "name": "python3"
  },
  "language_info": {
   "codemirror_mode": {
    "name": "ipython",
    "version": 3
   },
   "file_extension": ".py",
   "mimetype": "text/x-python",
   "name": "python",
   "nbconvert_exporter": "python",
   "pygments_lexer": "ipython3",
   "version": "3.11.7"
  }
 },
 "nbformat": 4,
 "nbformat_minor": 5
}
