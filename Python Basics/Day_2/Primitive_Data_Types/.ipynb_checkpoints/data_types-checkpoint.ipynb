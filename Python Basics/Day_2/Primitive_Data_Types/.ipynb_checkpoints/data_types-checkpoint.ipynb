{
 "cells": [
  {
   "cell_type": "code",
   "execution_count": 2,
   "id": "e0925b30-2b10-4593-b122-68f820061273",
   "metadata": {},
   "outputs": [
    {
     "name": "stdout",
     "output_type": "stream",
     "text": [
      "['Abhi', 'Manish', 'Sapna', 'Harish']\n",
      "<class 'list'>\n"
     ]
    }
   ],
   "source": [
    "# list \n",
    "\n",
    "my_list = ['Abhi', \"Manish\", \"Sapna\", 'Harish']\n",
    "\n",
    "print(my_list)\n",
    "print(type(my_list))"
   ]
  },
  {
   "cell_type": "code",
   "execution_count": 3,
   "id": "c306c187-179c-4a39-abae-31ddf080d235",
   "metadata": {},
   "outputs": [
    {
     "name": "stdout",
     "output_type": "stream",
     "text": [
      "('Abhi', 'Manish', 'Sapna', 'Harish')\n",
      "<class 'tuple'>\n"
     ]
    }
   ],
   "source": [
    "# Tuple\n",
    "\n",
    "my_tuple = ('Abhi', \"Manish\", \"Sapna\", 'Harish')\n",
    "\n",
    "print(my_tuple)\n",
    "print(type(my_tuple))"
   ]
  },
  {
   "cell_type": "code",
   "execution_count": 5,
   "id": "e05ccbe2-2eda-4993-9889-73a4a7062bab",
   "metadata": {},
   "outputs": [
    {
     "name": "stdout",
     "output_type": "stream",
     "text": [
      "{'name': 'Abhi', 'Age': 30, 'Add': 'New Delhi'}\n",
      "<class 'dict'>\n"
     ]
    }
   ],
   "source": [
    "# dict --> {'key' : 'Value'}\n",
    "\n",
    "details = {'name' : \"Abhi\", \"Age\" : 30, \"Add\": \"New Delhi\"}\n",
    "\n",
    "\n",
    "print(details)\n",
    "print(type(details))"
   ]
  },
  {
   "cell_type": "code",
   "execution_count": 6,
   "id": "43c4c4fc-1873-4b98-abbc-dee003d94924",
   "metadata": {},
   "outputs": [
    {
     "name": "stdout",
     "output_type": "stream",
     "text": [
      "{1, 3, 5, 7}\n",
      "<class 'set'>\n"
     ]
    }
   ],
   "source": [
    "# set \n",
    "\n",
    "my_set = {1, 3, 5, 7}\n",
    "\n",
    "print(my_set)\n",
    "print(type(my_set))"
   ]
  },
  {
   "cell_type": "code",
   "execution_count": null,
   "id": "32d31084-428c-4916-8509-7876e97fe43e",
   "metadata": {},
   "outputs": [],
   "source": []
  }
 ],
 "metadata": {
  "kernelspec": {
   "display_name": "Python 3 (ipykernel)",
   "language": "python",
   "name": "python3"
  },
  "language_info": {
   "codemirror_mode": {
    "name": "ipython",
    "version": 3
   },
   "file_extension": ".py",
   "mimetype": "text/x-python",
   "name": "python",
   "nbconvert_exporter": "python",
   "pygments_lexer": "ipython3",
   "version": "3.11.7"
  }
 },
 "nbformat": 4,
 "nbformat_minor": 5
}
