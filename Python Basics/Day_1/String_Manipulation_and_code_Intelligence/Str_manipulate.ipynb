{
 "cells": [
  {
   "cell_type": "code",
   "execution_count": 2,
   "id": "2f5d4ec6-809e-48b6-bd36-d1e6cce0ed43",
   "metadata": {},
   "outputs": [
    {
     "name": "stdout",
     "output_type": "stream",
     "text": [
      "Hello, World!\n",
      "Hello, World!\n",
      "Hello, World!\n"
     ]
    }
   ],
   "source": [
    "print(\"Hello, World!\")\n",
    "print(\"Hello, World!\")\n",
    "print(\"Hello, World!\")"
   ]
  },
  {
   "cell_type": "code",
   "execution_count": 3,
   "id": "b98c866b-22e1-4d4b-b0fa-f8e6abed76b7",
   "metadata": {},
   "outputs": [
    {
     "name": "stdout",
     "output_type": "stream",
     "text": [
      "Hello, World!\n",
      "Hello, World!\n",
      "Hello, World!\n"
     ]
    }
   ],
   "source": [
    "# \\n ---> New line character\n",
    "print(\"Hello, World!\\nHello, World!\\nHello, World!\")"
   ]
  },
  {
   "cell_type": "code",
   "execution_count": 4,
   "id": "ba7f6b45-f75c-4445-b997-1267a5558511",
   "metadata": {},
   "outputs": [
    {
     "name": "stdout",
     "output_type": "stream",
     "text": [
      "Hello, World! Hello, World! Hello, World!\n"
     ]
    }
   ],
   "source": [
    "print(\"Hello, World!\", \"Hello, World!\", \"Hello, World!\")"
   ]
  },
  {
   "cell_type": "code",
   "execution_count": 6,
   "id": "5e44bc17-ecd2-49a0-9afc-8617ab94227a",
   "metadata": {},
   "outputs": [
    {
     "name": "stdout",
     "output_type": "stream",
     "text": [
      "Hello, World! Hello, World! Hello, World! \n"
     ]
    }
   ],
   "source": [
    "print((\"Hello, World! \")*3)"
   ]
  },
  {
   "cell_type": "code",
   "execution_count": 7,
   "id": "62b75fc1-7e96-421d-bb5a-3a0aed07ff0f",
   "metadata": {},
   "outputs": [
    {
     "name": "stdout",
     "output_type": "stream",
     "text": [
      "2\n",
      "<class 'int'>\n",
      "140732467561288\n"
     ]
    }
   ],
   "source": [
    "# String --> Set of characters is called strings.\n",
    "\n",
    "My_Var = 2\n",
    "print(My_Var)\n",
    "print(type(My_Var))\n",
    "print(id(My_Var))"
   ]
  },
  {
   "cell_type": "code",
   "execution_count": 9,
   "id": "66c6b9d4-8ad5-43a5-beb5-2007beee876a",
   "metadata": {},
   "outputs": [
    {
     "name": "stdout",
     "output_type": "stream",
     "text": [
      "2\n",
      "<class 'str'>\n",
      "2625150876720\n"
     ]
    }
   ],
   "source": [
    "My_Var = str(My_Var)\n",
    "print(My_Var)\n",
    "print(type(My_Var))\n",
    "print(id(My_Var))"
   ]
  },
  {
   "cell_type": "code",
   "execution_count": 15,
   "id": "a105ff73-5b07-45ea-83ab-02411fdd2a33",
   "metadata": {},
   "outputs": [
    {
     "name": "stdout",
     "output_type": "stream",
     "text": [
      "Hello Abhishek\n"
     ]
    }
   ],
   "source": [
    "# Concatenation --> Combining or adding two or more than two strings together.\n",
    "# print(\"Hello\" + \"Manish\")\n",
    "# print(\"Hello\" + \"Abhishek\")  # There should be a space in between two words.\n",
    "\n",
    "#This would do the same with a space between two words.\n",
    "# print(\"Hello \" + \"Abhishek\") #Space in hello\n",
    "# print(\"Hello\" + \" Abhishek\") # Space before name\n",
    "print(\"Hello\" + \" \" +\"Abhishek\") # Space in between two words\n"
   ]
  },
  {
   "cell_type": "code",
   "execution_count": 18,
   "id": "8ba92eb9-a100-4d9d-b619-5c69d284feef",
   "metadata": {},
   "outputs": [],
   "source": [
    "# Spaces in python are quite important \n",
    "    # print(\"Hello World\") #this would give a error"
   ]
  },
  {
   "cell_type": "code",
   "execution_count": null,
   "id": "ca7e66d5-c3ca-4ffa-a93a-f91271b4b3f9",
   "metadata": {},
   "outputs": [],
   "source": [
    "# input() will get user input in console\n",
    "# Then print() will print the word \"Hello\" and the user input\n",
    "print(\"Hello \" + input(\"What is your name?\"))\n",
    "\n",
    "\n",
    "print(\"hello \" +input(\"what is your mail id? \"))"
   ]
  }
 ],
 "metadata": {
  "kernelspec": {
   "display_name": "Python 3 (ipykernel)",
   "language": "python",
   "name": "python3"
  },
  "language_info": {
   "codemirror_mode": {
    "name": "ipython",
    "version": 3
   },
   "file_extension": ".py",
   "mimetype": "text/x-python",
   "name": "python",
   "nbconvert_exporter": "python",
   "pygments_lexer": "ipython3",
   "version": "3.11.7"
  }
 },
 "nbformat": 4,
 "nbformat_minor": 5
}
