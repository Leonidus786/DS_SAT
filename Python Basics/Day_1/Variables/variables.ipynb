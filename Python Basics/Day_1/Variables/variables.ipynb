{
 "cells": [
  {
   "cell_type": "code",
   "execution_count": 1,
   "id": "b2a788a7-bf2a-43ae-9b8c-42d5c19cedac",
   "metadata": {},
   "outputs": [
    {
     "name": "stdout",
     "output_type": "stream",
     "text": [
      "5\n",
      "<class 'int'>\n",
      "140732467561384\n"
     ]
    }
   ],
   "source": [
    "a = 5\n",
    "\n",
    "print(a)\n",
    "print(type(a))\n",
    "print(id(a))"
   ]
  },
  {
   "cell_type": "code",
   "execution_count": 2,
   "id": "19364f1c-93e2-4f6f-9533-bea174c267ea",
   "metadata": {},
   "outputs": [
    {
     "name": "stdout",
     "output_type": "stream",
     "text": [
      "Manish\n",
      "<class 'str'>\n",
      "2154562239536\n",
      "Harish\n",
      "<class 'str'>\n",
      "2154561435952\n"
     ]
    }
   ],
   "source": [
    "b = \"Manish\"\n",
    "c = 'Harish'\n",
    "print(b)\n",
    "print(type(b))\n",
    "print(id(b))\n",
    "print(c)\n",
    "print(type(c))\n",
    "print(id(c))"
   ]
  },
  {
   "cell_type": "code",
   "execution_count": 5,
   "id": "67f3200d-9ded-408a-aeaf-89675525fa11",
   "metadata": {},
   "outputs": [
    {
     "name": "stdout",
     "output_type": "stream",
     "text": [
      "7.2\n",
      "<class 'float'>\n",
      "2154561276848\n",
      "5.0\n",
      "<class 'float'>\n",
      "2154561285712\n"
     ]
    }
   ],
   "source": [
    "# Casting or TypeCasting\n",
    "d = 7.2\n",
    "\n",
    "a = float(a)\n",
    "print(d)\n",
    "print(type(d))\n",
    "print(id(d))\n",
    "\n",
    "print(a)\n",
    "print(type(a))\n",
    "print(id(a))"
   ]
  },
  {
   "cell_type": "code",
   "execution_count": 6,
   "id": "30368a20-9d60-4686-a136-52fc3db1563a",
   "metadata": {},
   "outputs": [
    {
     "name": "stdout",
     "output_type": "stream",
     "text": [
      "7\n",
      "<class 'int'>\n",
      "140732467561448\n"
     ]
    }
   ],
   "source": [
    "d = int(d)\n",
    "print(d)\n",
    "print(type(d))\n",
    "print(id(d))"
   ]
  },
  {
   "cell_type": "code",
   "execution_count": 7,
   "id": "3178b499-e7bd-430b-b285-c4e21dece4bb",
   "metadata": {},
   "outputs": [
    {
     "name": "stdout",
     "output_type": "stream",
     "text": [
      "Apple\n",
      "<class 'str'>\n",
      "2154561695088\n",
      "apple\n",
      "<class 'str'>\n",
      "2154562235952\n"
     ]
    }
   ],
   "source": [
    "a = \"Apple\"\n",
    "print(a)\n",
    "print(type(a))\n",
    "print(id(a))\n",
    "\n",
    "\n",
    "A = 'apple'\n",
    "print(A)\n",
    "print(type(A))\n",
    "print(id(A))"
   ]
  },
  {
   "cell_type": "code",
   "execution_count": 8,
   "id": "d8e41d5e-434b-48ea-a7e0-e9d0e67cefe9",
   "metadata": {},
   "outputs": [],
   "source": [
    "My_Name = \"Abhishek\""
   ]
  },
  {
   "cell_type": "code",
   "execution_count": 10,
   "id": "f00c0037-c111-4833-a4b8-e09e7ab9e2cb",
   "metadata": {},
   "outputs": [],
   "source": [
    "s = t = u = 'Amity'"
   ]
  },
  {
   "cell_type": "code",
   "execution_count": 11,
   "id": "05cc8113-1513-4bcf-8910-f9db61957906",
   "metadata": {},
   "outputs": [
    {
     "data": {
      "text/plain": [
       "'Amity'"
      ]
     },
     "execution_count": 11,
     "metadata": {},
     "output_type": "execute_result"
    }
   ],
   "source": [
    "s"
   ]
  },
  {
   "cell_type": "code",
   "execution_count": 12,
   "id": "0e223195-b166-495e-9464-6eca14c77ce5",
   "metadata": {},
   "outputs": [
    {
     "data": {
      "text/plain": [
       "'Amity'"
      ]
     },
     "execution_count": 12,
     "metadata": {},
     "output_type": "execute_result"
    }
   ],
   "source": [
    "t"
   ]
  },
  {
   "cell_type": "code",
   "execution_count": 13,
   "id": "af1e5588-ac2f-49b0-a48a-a38f6f1c237b",
   "metadata": {},
   "outputs": [
    {
     "data": {
      "text/plain": [
       "'Amity'"
      ]
     },
     "execution_count": 13,
     "metadata": {},
     "output_type": "execute_result"
    }
   ],
   "source": [
    "u"
   ]
  },
  {
   "cell_type": "code",
   "execution_count": 14,
   "id": "1852a3a8-d7f0-41c4-8474-346beff6a8b6",
   "metadata": {},
   "outputs": [
    {
     "name": "stdout",
     "output_type": "stream",
     "text": [
      "Amity\n",
      "Galgotia\n",
      "IIT-D\n"
     ]
    }
   ],
   "source": [
    "s,t,u = \"Amity\",\"Galgotia\",\"IIT-D\"\n",
    "print(s)\n",
    "print(t)\n",
    "print(u)"
   ]
  }
 ],
 "metadata": {
  "kernelspec": {
   "display_name": "Python 3 (ipykernel)",
   "language": "python",
   "name": "python3"
  },
  "language_info": {
   "codemirror_mode": {
    "name": "ipython",
    "version": 3
   },
   "file_extension": ".py",
   "mimetype": "text/x-python",
   "name": "python",
   "nbconvert_exporter": "python",
   "pygments_lexer": "ipython3",
   "version": "3.11.7"
  }
 },
 "nbformat": 4,
 "nbformat_minor": 5
}
