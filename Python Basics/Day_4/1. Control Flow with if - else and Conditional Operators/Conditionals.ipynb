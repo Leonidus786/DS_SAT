{
 "cells": [
  {
   "cell_type": "code",
   "execution_count": 8,
   "id": "9f26f8a7-c073-4b26-baf0-fe4b87e30d39",
   "metadata": {},
   "outputs": [],
   "source": [
    "a = 5\n",
    "b = 9"
   ]
  },
  {
   "cell_type": "code",
   "execution_count": 5,
   "id": "af4e8ee1-16dc-478a-80af-d681d98356fe",
   "metadata": {},
   "outputs": [
    {
     "data": {
      "text/plain": [
       "False"
      ]
     },
     "execution_count": 5,
     "metadata": {},
     "output_type": "execute_result"
    }
   ],
   "source": [
    "a == b"
   ]
  },
  {
   "cell_type": "code",
   "execution_count": 9,
   "id": "e75e61a9-98ae-4d50-9718-1b101209409b",
   "metadata": {},
   "outputs": [
    {
     "name": "stdout",
     "output_type": "stream",
     "text": [
      "Yes b is greater than a.\n"
     ]
    }
   ],
   "source": [
    "if b > a:\n",
    "    print(\"Yes b is greater than a.\")"
   ]
  },
  {
   "cell_type": "code",
   "execution_count": 10,
   "id": "fcdfa04d-2ac9-4125-8b70-a3f83c13d378",
   "metadata": {},
   "outputs": [
    {
     "name": "stdout",
     "output_type": "stream",
     "text": [
      "Yes b is greater than a.\n"
     ]
    }
   ],
   "source": [
    "if b > a:\n",
    "    print(\"Yes b is greater than a.\")\n",
    "else:\n",
    "    print(\"Bhai tu glt h\")"
   ]
  },
  {
   "cell_type": "code",
   "execution_count": 11,
   "id": "d957039a-cbdc-412c-a34c-f4a5d66a86a2",
   "metadata": {},
   "outputs": [
    {
     "name": "stdout",
     "output_type": "stream",
     "text": [
      "Bhai abki br m chlunga\n"
     ]
    }
   ],
   "source": [
    "if b < a:\n",
    "    print(\"Bhai m ni chl rha\")\n",
    "elif b > a:\n",
    "    print(\"Bhai abki br m chlunga\")\n",
    "elif b >= a:\n",
    "    print(\"Mai v chlta \")\n",
    "else:\n",
    "    print(\"Koi kahi ni ja rha\")"
   ]
  }
 ],
 "metadata": {
  "kernelspec": {
   "display_name": "Python 3 (ipykernel)",
   "language": "python",
   "name": "python3"
  },
  "language_info": {
   "codemirror_mode": {
    "name": "ipython",
    "version": 3
   },
   "file_extension": ".py",
   "mimetype": "text/x-python",
   "name": "python",
   "nbconvert_exporter": "python",
   "pygments_lexer": "ipython3",
   "version": "3.11.7"
  }
 },
 "nbformat": 4,
 "nbformat_minor": 5
}
