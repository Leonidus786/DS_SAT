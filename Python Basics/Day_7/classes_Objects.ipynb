{
 "cells": [
  {
   "cell_type": "markdown",
   "id": "169f5701-258f-463e-a723-eca92f2e1d30",
   "metadata": {},
   "source": [
    "Array is a linear data structure where all elements are arranged sequentially. It is a collection of elements of same data type stored at contiguous memory locations."
   ]
  },
  {
   "cell_type": "markdown",
   "id": "8c4be2c4-496c-4a13-ae5a-1d603fb70942",
   "metadata": {},
   "source": [
    "# meaning of oops\n",
    "\n",
    "##  The main aim of OOP is to bind together the data and the functions that operate on them so that no other part of the code can access this data except that function."
   ]
  },
  {
   "cell_type": "code",
   "execution_count": 3,
   "id": "b8061d07-75b2-4ad1-83fb-4560570bda83",
   "metadata": {},
   "outputs": [],
   "source": [
    "class class_name:\n",
    "    my_property = \"Ye m krunga agr mere class k name se object bnega\""
   ]
  },
  {
   "cell_type": "code",
   "execution_count": 4,
   "id": "89b6d06d-5f74-4cd7-8e33-39acc19cb6c0",
   "metadata": {},
   "outputs": [
    {
     "data": {
      "text/plain": [
       "__main__.class_name"
      ]
     },
     "execution_count": 4,
     "metadata": {},
     "output_type": "execute_result"
    }
   ],
   "source": [
    "class_name"
   ]
  },
  {
   "cell_type": "code",
   "execution_count": 5,
   "id": "d733dc2a-b5a6-4a11-900e-9b07f2045854",
   "metadata": {},
   "outputs": [],
   "source": [
    "Object = class_name()"
   ]
  },
  {
   "cell_type": "code",
   "execution_count": 7,
   "id": "464ebb8d-6fea-42e2-bb3e-15496e5ac79c",
   "metadata": {},
   "outputs": [
    {
     "data": {
      "text/plain": [
       "'Ye m krunga agr mere class k name se object bnega'"
      ]
     },
     "execution_count": 7,
     "metadata": {},
     "output_type": "execute_result"
    }
   ],
   "source": [
    "Object.my_property"
   ]
  },
  {
   "cell_type": "code",
   "execution_count": 8,
   "id": "ade42ffd-7d35-49cf-8457-4594f048d567",
   "metadata": {},
   "outputs": [],
   "source": [
    "class Human:\n",
    "    def __init__(self, name, gender, age):\n",
    "        self.name = name\n",
    "        self.gender = gender\n",
    "        self.age = age"
   ]
  },
  {
   "cell_type": "code",
   "execution_count": 9,
   "id": "6e6439c4-e2a0-4b69-a808-57b7974663c0",
   "metadata": {},
   "outputs": [],
   "source": [
    "Person_1 = Human(\"Amit\", \"Male\", 30)"
   ]
  },
  {
   "cell_type": "code",
   "execution_count": 10,
   "id": "ea80035b-79f3-421a-b301-5968b1d52cc6",
   "metadata": {},
   "outputs": [
    {
     "data": {
      "text/plain": [
       "'Amit'"
      ]
     },
     "execution_count": 10,
     "metadata": {},
     "output_type": "execute_result"
    }
   ],
   "source": [
    "Person_1.name"
   ]
  },
  {
   "cell_type": "code",
   "execution_count": 11,
   "id": "7f9cdb92-fd3a-47b8-a700-82cba438ac38",
   "metadata": {},
   "outputs": [
    {
     "data": {
      "text/plain": [
       "30"
      ]
     },
     "execution_count": 11,
     "metadata": {},
     "output_type": "execute_result"
    }
   ],
   "source": [
    "Person_1.age"
   ]
  },
  {
   "cell_type": "code",
   "execution_count": 12,
   "id": "d299aab4-127f-44ee-a9b2-f0dfd40497ae",
   "metadata": {},
   "outputs": [
    {
     "data": {
      "text/plain": [
       "'Male'"
      ]
     },
     "execution_count": 12,
     "metadata": {},
     "output_type": "execute_result"
    }
   ],
   "source": [
    "Person_1.gender"
   ]
  },
  {
   "cell_type": "code",
   "execution_count": 13,
   "id": "f3ee8c58-0f29-48c2-bf7b-e377b9851921",
   "metadata": {},
   "outputs": [
    {
     "ename": "TypeError",
     "evalue": "Human.__init__() missing 1 required positional argument: 'age'",
     "output_type": "error",
     "traceback": [
      "\u001b[1;31m---------------------------------------------------------------------------\u001b[0m",
      "\u001b[1;31mTypeError\u001b[0m                                 Traceback (most recent call last)",
      "Cell \u001b[1;32mIn[13], line 1\u001b[0m\n\u001b[1;32m----> 1\u001b[0m Person_2 \u001b[38;5;241m=\u001b[39m Human(\u001b[38;5;124m\"\u001b[39m\u001b[38;5;124mAmit_1\u001b[39m\u001b[38;5;124m\"\u001b[39m, \u001b[38;5;124m\"\u001b[39m\u001b[38;5;124mMale\u001b[39m\u001b[38;5;124m\"\u001b[39m)\n",
      "\u001b[1;31mTypeError\u001b[0m: Human.__init__() missing 1 required positional argument: 'age'"
     ]
    }
   ],
   "source": [
    "Person_2 = Human(\"Amit_1\", \"Male\")"
   ]
  },
  {
   "cell_type": "code",
   "execution_count": 14,
   "id": "ce7a2000-ee52-4c51-b7a6-2b7e978f7f84",
   "metadata": {},
   "outputs": [
    {
     "name": "stdout",
     "output_type": "stream",
     "text": [
      "<__main__.Person object at 0x00000125965CB990>\n"
     ]
    }
   ],
   "source": [
    "class Person:\n",
    "  def __init__(self, name, age):\n",
    "    self.name = name\n",
    "    self.age = age\n",
    "\n",
    "p1 = Person(\"John\", 36)\n",
    "\n",
    "print(p1)"
   ]
  },
  {
   "cell_type": "code",
   "execution_count": 15,
   "id": "fd48f6a9-cc76-46f7-b57b-4fcaa5096baa",
   "metadata": {},
   "outputs": [],
   "source": [
    "class Person:\n",
    "  def __init__(self, name, age):\n",
    "    self.name = name\n",
    "    self.age = age\n",
    "\n",
    "  def __str__(self):\n",
    "    return f\"{self.name}({self.age})\""
   ]
  },
  {
   "cell_type": "code",
   "execution_count": 16,
   "id": "4d83bbef-145e-4ff1-9de8-1557c60f864f",
   "metadata": {},
   "outputs": [
    {
     "name": "stdout",
     "output_type": "stream",
     "text": [
      "John(36)\n"
     ]
    }
   ],
   "source": [
    "p2 = Person(\"John\", 36)\n",
    "\n",
    "print(p2)"
   ]
  },
  {
   "cell_type": "code",
   "execution_count": 19,
   "id": "f671fd95-cdd8-48b0-8670-6c3353aede80",
   "metadata": {},
   "outputs": [],
   "source": [
    "# Parent class or Base class\n",
    "class Person:\n",
    "  def __init__(self, fname, lname):\n",
    "    self.firstname = fname\n",
    "    self.lastname = lname\n",
    "\n",
    "  def printname(self):\n",
    "    print(self.firstname, self.lastname)"
   ]
  },
  {
   "cell_type": "code",
   "execution_count": 20,
   "id": "e57458c9-d5d9-46df-9052-5a6e9905207b",
   "metadata": {},
   "outputs": [],
   "source": [
    "# Child class or Derived class\n",
    "class Student(Person):\n",
    "  pass"
   ]
  },
  {
   "cell_type": "code",
   "execution_count": 21,
   "id": "b49a15b1-920b-4471-81d8-02212b3063a3",
   "metadata": {},
   "outputs": [
    {
     "name": "stdout",
     "output_type": "stream",
     "text": [
      "Mike Olsen\n"
     ]
    }
   ],
   "source": [
    "x = Student(\"Mike\", \"Olsen\")\n",
    "x.printname()"
   ]
  },
  {
   "cell_type": "code",
   "execution_count": 22,
   "id": "159aff2d-838d-4b58-b4dd-c6c36a9b4b75",
   "metadata": {},
   "outputs": [],
   "source": [
    "# Parent class\n",
    "class Person:\n",
    "  def __init__(self, fname, lname):\n",
    "    self.firstname = fname\n",
    "    self.lastname = lname\n",
    "\n",
    "  def printname(self):\n",
    "    print(self.firstname, self.lastname)"
   ]
  },
  {
   "cell_type": "code",
   "execution_count": 23,
   "id": "580100c9-a722-44c5-b985-ca897577f23d",
   "metadata": {},
   "outputs": [],
   "source": [
    "# child class with it's own new properties\n",
    "class Student(Person):\n",
    "  def __init__(self, fname, lname):\n",
    "    super().__init__(fname, lname)\n",
    "    self.graduationyear = 2019"
   ]
  },
  {
   "cell_type": "code",
   "execution_count": 24,
   "id": "b911bee2-ae68-4e69-b72f-306b64a00916",
   "metadata": {},
   "outputs": [
    {
     "name": "stdout",
     "output_type": "stream",
     "text": [
      "2019\n"
     ]
    }
   ],
   "source": [
    "x = Student(\"Mike\", \"Olsen\")\n",
    "print(x.graduationyear)"
   ]
  },
  {
   "cell_type": "code",
   "execution_count": 26,
   "id": "4f378cb4-3e60-4e9c-914d-76a850e4ac2f",
   "metadata": {},
   "outputs": [
    {
     "name": "stdout",
     "output_type": "stream",
     "text": [
      "2019\n"
     ]
    }
   ],
   "source": [
    "# Parent or Base class\n",
    "class Person:\n",
    "  def __init__(self, fname, lname):\n",
    "    self.firstname = fname\n",
    "    self.lastname = lname\n",
    "\n",
    "  def printname(self):\n",
    "    print(self.firstname, self.lastname)\n",
    "\n",
    "# Child or Derived class\n",
    "class Student(Person):\n",
    "  def __init__(self, fname, lname, year):\n",
    "    super().__init__(fname, lname)\n",
    "    self.graduationyear = year\n",
    "\n",
    "# Creating Object using child class\n",
    "x = Student(\"Mike\", \"Olsen\", 2019)\n",
    "print(x.graduationyear)"
   ]
  },
  {
   "cell_type": "code",
   "execution_count": 27,
   "id": "d32eb031-b66b-4636-a23d-c009b83c96c1",
   "metadata": {},
   "outputs": [
    {
     "name": "stdout",
     "output_type": "stream",
     "text": [
      "Welcome Mike Olsen to the class of 2024\n"
     ]
    }
   ],
   "source": [
    "class Person:\n",
    "  def __init__(self, fname, lname):\n",
    "    self.firstname = fname\n",
    "    self.lastname = lname\n",
    "\n",
    "  def printname(self):\n",
    "    print(self.firstname, self.lastname)\n",
    "\n",
    "class Student(Person):\n",
    "  def __init__(self, fname, lname, year):\n",
    "    super().__init__(fname, lname)\n",
    "    self.graduationyear = year\n",
    "  # Child class ki khud ki function\n",
    "  def welcome(self):\n",
    "    print(\"Welcome\", self.firstname, self.lastname, \"to the class of\", self.graduationyear)\n",
    "\n",
    "x = Student(\"Mike\", \"Olsen\", 2024)\n",
    "x.welcome()"
   ]
  }
 ],
 "metadata": {
  "kernelspec": {
   "display_name": "Python 3 (ipykernel)",
   "language": "python",
   "name": "python3"
  },
  "language_info": {
   "codemirror_mode": {
    "name": "ipython",
    "version": 3
   },
   "file_extension": ".py",
   "mimetype": "text/x-python",
   "name": "python",
   "nbconvert_exporter": "python",
   "pygments_lexer": "ipython3",
   "version": "3.11.7"
  }
 },
 "nbformat": 4,
 "nbformat_minor": 5
}
