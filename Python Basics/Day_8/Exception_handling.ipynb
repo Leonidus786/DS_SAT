{
 "cells": [
  {
   "cell_type": "code",
   "execution_count": 3,
   "id": "c9e70648-76be-411d-b097-acca61bd1831",
   "metadata": {},
   "outputs": [
    {
     "name": "stdin",
     "output_type": "stream",
     "text": [
      "Please Enter your mobile number:  ewqhrehwqd\n"
     ]
    },
    {
     "ename": "ValueError",
     "evalue": "invalid literal for int() with base 10: 'ewqhrehwqd'",
     "output_type": "error",
     "traceback": [
      "\u001b[1;31m---------------------------------------------------------------------------\u001b[0m",
      "\u001b[1;31mValueError\u001b[0m                                Traceback (most recent call last)",
      "Cell \u001b[1;32mIn[3], line 1\u001b[0m\n\u001b[1;32m----> 1\u001b[0m Mob_Number \u001b[38;5;241m=\u001b[39m \u001b[38;5;28mint\u001b[39m(\u001b[38;5;28minput\u001b[39m(\u001b[38;5;124m\"\u001b[39m\u001b[38;5;124mPlease Enter your mobile number: \u001b[39m\u001b[38;5;124m\"\u001b[39m))\n\u001b[0;32m      3\u001b[0m \u001b[38;5;28mprint\u001b[39m(Mob_Number)\n",
      "\u001b[1;31mValueError\u001b[0m: invalid literal for int() with base 10: 'ewqhrehwqd'"
     ]
    }
   ],
   "source": [
    "Mob_Number = int(input(\"Please Enter your mobile number: \"))\n",
    "\n",
    "print(Mob_Number)"
   ]
  },
  {
   "cell_type": "code",
   "execution_count": 4,
   "id": "2d6254b0-f0cc-462c-ab26-01dc35adbf77",
   "metadata": {},
   "outputs": [
    {
     "ename": "NameError",
     "evalue": "name 'x' is not defined",
     "output_type": "error",
     "traceback": [
      "\u001b[1;31m---------------------------------------------------------------------------\u001b[0m",
      "\u001b[1;31mNameError\u001b[0m                                 Traceback (most recent call last)",
      "Cell \u001b[1;32mIn[4], line 1\u001b[0m\n\u001b[1;32m----> 1\u001b[0m \u001b[38;5;28mprint\u001b[39m(x)\n",
      "\u001b[1;31mNameError\u001b[0m: name 'x' is not defined"
     ]
    }
   ],
   "source": [
    "print(x)"
   ]
  },
  {
   "cell_type": "code",
   "execution_count": 5,
   "id": "b7191370-8f47-4192-9fc8-cf98a662e2f0",
   "metadata": {},
   "outputs": [
    {
     "name": "stdout",
     "output_type": "stream",
     "text": [
      "An exception occurred\n"
     ]
    }
   ],
   "source": [
    "try:\n",
    "  print(x)\n",
    "except:\n",
    "  print(\"An exception occurred\")"
   ]
  },
  {
   "cell_type": "code",
   "execution_count": 6,
   "id": "190564ff-4171-4660-af2c-ea05d2c677cd",
   "metadata": {},
   "outputs": [
    {
     "name": "stdout",
     "output_type": "stream",
     "text": [
      "Variable x is not defined\n"
     ]
    }
   ],
   "source": [
    "try:\n",
    "  print(x)\n",
    "except NameError:\n",
    "  print(\"Variable x is not defined\")\n",
    "except:\n",
    "  print(\"Something else went wrong\")"
   ]
  },
  {
   "cell_type": "code",
   "execution_count": 11,
   "id": "8c6056a6-ba22-4f91-aca8-b7e1d6fa83ff",
   "metadata": {},
   "outputs": [],
   "source": [
    "Mob_Number = \"qwqueuwie\""
   ]
  },
  {
   "cell_type": "code",
   "execution_count": 12,
   "id": "9a40a98f-5b72-4cf0-83bc-bf98f9960609",
   "metadata": {},
   "outputs": [
    {
     "name": "stdout",
     "output_type": "stream",
     "text": [
      "Please Enter a valid Mobile Number\n"
     ]
    }
   ],
   "source": [
    "try:\n",
    "  print(int(Mob_Number))\n",
    "except ValueError:\n",
    "  print(\"Please Enter a valid Mobile Number\")\n",
    "except:\n",
    "  print(\"Something else went wrong\")"
   ]
  }
 ],
 "metadata": {
  "kernelspec": {
   "display_name": "Python 3 (ipykernel)",
   "language": "python",
   "name": "python3"
  },
  "language_info": {
   "codemirror_mode": {
    "name": "ipython",
    "version": 3
   },
   "file_extension": ".py",
   "mimetype": "text/x-python",
   "name": "python",
   "nbconvert_exporter": "python",
   "pygments_lexer": "ipython3",
   "version": "3.11.7"
  }
 },
 "nbformat": 4,
 "nbformat_minor": 5
}
