{
 "cells": [
  {
   "cell_type": "code",
   "execution_count": 10,
   "id": "5494dbec-2c2f-4921-bbcd-9ef91eeb1058",
   "metadata": {},
   "outputs": [],
   "source": [
    "import mymodule"
   ]
  },
  {
   "cell_type": "code",
   "execution_count": 11,
   "id": "cfbd118d-82f9-4c1a-b13d-95efe39c7a80",
   "metadata": {},
   "outputs": [
    {
     "name": "stdout",
     "output_type": "stream",
     "text": [
      "Hello, Jonathan\n"
     ]
    }
   ],
   "source": [
    "mymodule.greeting(\"Jonathan\")"
   ]
  },
  {
   "cell_type": "code",
   "execution_count": 12,
   "id": "7f8ce2ab-4d4c-43aa-b69a-59009efae895",
   "metadata": {},
   "outputs": [
    {
     "name": "stdout",
     "output_type": "stream",
     "text": [
      "Hello, Amit\n"
     ]
    }
   ],
   "source": [
    "mymodule.greeting(\"Amit\")"
   ]
  },
  {
   "cell_type": "code",
   "execution_count": 14,
   "id": "777bcf12-5911-4b72-946a-af892b8e41a1",
   "metadata": {},
   "outputs": [],
   "source": [
    "import new"
   ]
  },
  {
   "cell_type": "code",
   "execution_count": 15,
   "id": "9cd004fe-7f51-47bf-ada3-a112b590bac3",
   "metadata": {},
   "outputs": [
    {
     "data": {
      "text/plain": [
       "5"
      ]
     },
     "execution_count": 15,
     "metadata": {},
     "output_type": "execute_result"
    }
   ],
   "source": [
    "new.sum(2,3)"
   ]
  }
 ],
 "metadata": {
  "kernelspec": {
   "display_name": "Python 3 (ipykernel)",
   "language": "python",
   "name": "python3"
  },
  "language_info": {
   "codemirror_mode": {
    "name": "ipython",
    "version": 3
   },
   "file_extension": ".py",
   "mimetype": "text/x-python",
   "name": "python",
   "nbconvert_exporter": "python",
   "pygments_lexer": "ipython3",
   "version": "3.11.7"
  }
 },
 "nbformat": 4,
 "nbformat_minor": 5
}
