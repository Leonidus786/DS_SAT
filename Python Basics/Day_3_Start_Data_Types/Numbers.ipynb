{
 "cells": [
  {
   "cell_type": "code",
   "execution_count": 1,
   "id": "ac2e1d69-db20-4a89-bde3-64abc6ac2878",
   "metadata": {},
   "outputs": [
    {
     "name": "stdout",
     "output_type": "stream",
     "text": [
      "<class 'int'>\n",
      "2\n",
      "<class 'int'>\n",
      "6\n"
     ]
    }
   ],
   "source": [
    "# Integers are like whole numbers, but they also include negative numbers ... but still no fractions allowed!\n",
    "a = 2\n",
    "print(type(a))\n",
    "print(a)\n",
    "\n",
    "b = 6\n",
    "print(type(b))\n",
    "print(b)"
   ]
  },
  {
   "cell_type": "code",
   "execution_count": 5,
   "id": "f1020cc8-65c7-4216-a5a0-aef814f661ae",
   "metadata": {},
   "outputs": [
    {
     "name": "stdout",
     "output_type": "stream",
     "text": [
      "<class 'float'>\n",
      "2.5\n",
      "<class 'float'>\n",
      "0.5\n"
     ]
    }
   ],
   "source": [
    "# Floating point numbers --> Fractional Numbers or decimal numbers.\n",
    "b = 2.5  # 5/2\n",
    "print(type(b))\n",
    "print(b)\n",
    "\n",
    "c = 1/2\n",
    "print(type(c))\n",
    "print(c)"
   ]
  },
  {
   "cell_type": "code",
   "execution_count": 4,
   "id": "27c36a56-4d89-47e9-be9d-19f8a50c8c6c",
   "metadata": {},
   "outputs": [
    {
     "name": "stdout",
     "output_type": "stream",
     "text": [
      "<class 'float'>\n",
      "<class 'float'>\n",
      "<class 'float'>\n",
      "35000.0\n",
      "120000.0\n",
      "-8.77e+101\n"
     ]
    }
   ],
   "source": [
    "x = 35e3\n",
    "y = 12E4\n",
    "z = -87.7e100\n",
    "\n",
    "print(type(x))\n",
    "print(type(y))\n",
    "print(type(z))\n",
    "print(x)\n",
    "print(y)\n",
    "print(z)"
   ]
  },
  {
   "cell_type": "code",
   "execution_count": 6,
   "id": "516994aa-edd7-40ca-94c1-bfc8cac77f6f",
   "metadata": {},
   "outputs": [
    {
     "name": "stdout",
     "output_type": "stream",
     "text": [
      "<class 'complex'>\n",
      "(2+3j)\n",
      "<class 'complex'>\n",
      "5j\n"
     ]
    }
   ],
   "source": [
    "# Complex Numbers --> A Complex Number is a combination of a\n",
    "# Real Number and an Imaginary Number.\n",
    "c = 2 + 3j\n",
    "print(type(c))\n",
    "print(c)\n",
    "\n",
    "d = 5j\n",
    "print(type(d))\n",
    "print(d)"
   ]
  },
  {
   "cell_type": "code",
   "execution_count": 7,
   "id": "ee87acf4-5976-4a5d-b514-3e1a0ad3079d",
   "metadata": {},
   "outputs": [
    {
     "name": "stdout",
     "output_type": "stream",
     "text": [
      "2\n",
      "2.5\n"
     ]
    }
   ],
   "source": [
    "print(a)\n",
    "print(b)"
   ]
  },
  {
   "cell_type": "code",
   "execution_count": 8,
   "id": "df4f3c43-7e4d-4802-b88f-e498177b4c8d",
   "metadata": {},
   "outputs": [
    {
     "name": "stdout",
     "output_type": "stream",
     "text": [
      "2.0\n",
      "2\n",
      "(2+0j)\n"
     ]
    }
   ],
   "source": [
    "# Type Conversion --> Type Casting --> To convert the data type from one type to another data type\n",
    "# You can convert from one type to another with the int(), float(), and complex() methods\n",
    "a = float(a)\n",
    "print(a)\n",
    "\n",
    "b = int(b)\n",
    "print(b)\n",
    "\n",
    "b = complex(b)\n",
    "print(b)"
   ]
  },
  {
   "cell_type": "code",
   "execution_count": 9,
   "id": "e194981b-4ac1-48c7-b74b-d8b8249deab5",
   "metadata": {},
   "outputs": [
    {
     "name": "stdout",
     "output_type": "stream",
     "text": [
      "2.0\n"
     ]
    }
   ],
   "source": [
    "print(a)"
   ]
  },
  {
   "cell_type": "code",
   "execution_count": 10,
   "id": "60686f7e-e53c-4d6e-b328-a0c986ab8d95",
   "metadata": {},
   "outputs": [
    {
     "name": "stdout",
     "output_type": "stream",
     "text": [
      "<class 'str'>\n",
      "2.0\n"
     ]
    }
   ],
   "source": [
    "a = str(a)\n",
    "print(type(a))\n",
    "print(a)"
   ]
  },
  {
   "cell_type": "code",
   "execution_count": 15,
   "id": "693c66c2-f5dc-4376-a59a-755a68f29eed",
   "metadata": {},
   "outputs": [
    {
     "name": "stdout",
     "output_type": "stream",
     "text": [
      "95\n"
     ]
    }
   ],
   "source": [
    "import random\n",
    "\n",
    "print(random.randrange(10, 100))"
   ]
  },
  {
   "cell_type": "code",
   "execution_count": 16,
   "id": "f67c6785-5729-422e-af61-9a9c1e4b95a9",
   "metadata": {},
   "outputs": [
    {
     "data": {
      "text/plain": [
       "(2+0j)"
      ]
     },
     "execution_count": 16,
     "metadata": {},
     "output_type": "execute_result"
    }
   ],
   "source": [
    "b"
   ]
  },
  {
   "cell_type": "code",
   "execution_count": 18,
   "id": "fbdbe846-dff7-44c0-96d2-219f7859075e",
   "metadata": {},
   "outputs": [],
   "source": [
    "# below line will produce a TypeError.----Study README.md\n",
    "# b = int(b)\n",
    "# b"
   ]
  }
 ],
 "metadata": {
  "kernelspec": {
   "display_name": "Python 3 (ipykernel)",
   "language": "python",
   "name": "python3"
  },
  "language_info": {
   "codemirror_mode": {
    "name": "ipython",
    "version": 3
   },
   "file_extension": ".py",
   "mimetype": "text/x-python",
   "name": "python",
   "nbconvert_exporter": "python",
   "pygments_lexer": "ipython3",
   "version": "3.11.7"
  }
 },
 "nbformat": 4,
 "nbformat_minor": 5
}
