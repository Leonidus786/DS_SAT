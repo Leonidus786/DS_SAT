{
 "cells": [
  {
   "cell_type": "code",
   "execution_count": 1,
   "id": "e335ee56-4307-4342-8a23-0655e9b00eef",
   "metadata": {},
   "outputs": [],
   "source": [
    "a = True\n",
    "b = False"
   ]
  },
  {
   "cell_type": "code",
   "execution_count": 2,
   "id": "a6457c5a-b4d6-442c-ae86-961efbc3b4ba",
   "metadata": {},
   "outputs": [
    {
     "name": "stdout",
     "output_type": "stream",
     "text": [
      "<class 'bool'>\n",
      "<class 'bool'>\n"
     ]
    }
   ],
   "source": [
    "print(type(a))\n",
    "print(type(b))"
   ]
  },
  {
   "cell_type": "code",
   "execution_count": 3,
   "id": "9dfbc27f-4d65-45a7-abae-6a97ddbdc893",
   "metadata": {},
   "outputs": [
    {
     "name": "stdout",
     "output_type": "stream",
     "text": [
      "True\n",
      "False\n",
      "False\n",
      "True\n"
     ]
    }
   ],
   "source": [
    "print(10 > 9)\n",
    "print(10 == 9)\n",
    "print(10 < 9)\n",
    "print(10 <= 12)"
   ]
  },
  {
   "cell_type": "code",
   "execution_count": 4,
   "id": "24934416-b5a5-4a74-8325-fdfa546d4516",
   "metadata": {},
   "outputs": [
    {
     "name": "stdout",
     "output_type": "stream",
     "text": [
      "b is not greater than a\n"
     ]
    }
   ],
   "source": [
    "a = 200\n",
    "b = 33\n",
    "\n",
    "if b > a:\n",
    "  print(\"b is greater than a\")\n",
    "else:\n",
    "  print(\"b is not greater than a\")"
   ]
  },
  {
   "cell_type": "code",
   "execution_count": 4,
   "id": "28a10d67-dd3d-4fbc-b077-a9b53a8c41cf",
   "metadata": {},
   "outputs": [
    {
     "name": "stdout",
     "output_type": "stream",
     "text": [
      "True\n",
      "True\n"
     ]
    }
   ],
   "source": [
    "# bool() \n",
    "print(bool(\"Hello\"))\n",
    "print(bool(15))"
   ]
  },
  {
   "cell_type": "code",
   "execution_count": 7,
   "id": "5f9ade97-9a99-4896-b4ff-db681cde1d8b",
   "metadata": {},
   "outputs": [
    {
     "name": "stdout",
     "output_type": "stream",
     "text": [
      "True\n",
      "True\n",
      "True\n"
     ]
    }
   ],
   "source": [
    "print(bool(\"abc\"))\n",
    "print(bool(123))\n",
    "print(bool([\"apple\", \"cherry\", \"banana\"]))"
   ]
  },
  {
   "cell_type": "markdown",
   "id": "b5e2271b-64e2-4910-8a08-bf048f02e527",
   "metadata": {},
   "source": [
    "## Condition of False"
   ]
  },
  {
   "cell_type": "code",
   "execution_count": 9,
   "id": "c255a9e7-da7e-4041-a006-35806f90a83d",
   "metadata": {},
   "outputs": [],
   "source": [
    "# True == 1, False == 0"
   ]
  },
  {
   "cell_type": "code",
   "execution_count": 10,
   "id": "8fd233c1-e87f-4814-8aaf-d467b4ff8db1",
   "metadata": {},
   "outputs": [
    {
     "name": "stdout",
     "output_type": "stream",
     "text": [
      "False\n",
      "False\n",
      "False\n",
      "False\n",
      "False\n",
      "False\n",
      "False\n"
     ]
    }
   ],
   "source": [
    "print(bool(False))\n",
    "print(bool(None))\n",
    "print(bool(0))\n",
    "print(bool(\"\"))\n",
    "print(bool(()))\n",
    "print(bool([]))\n",
    "print(bool({}))"
   ]
  },
  {
   "cell_type": "code",
   "execution_count": 8,
   "id": "0655c28e-0063-4915-b0e9-b66fc331727e",
   "metadata": {},
   "outputs": [
    {
     "name": "stdout",
     "output_type": "stream",
     "text": [
      "True\n"
     ]
    }
   ],
   "source": [
    "x = 200\n",
    "print(isinstance(x, int))"
   ]
  },
  {
   "cell_type": "code",
   "execution_count": 11,
   "id": "39e47bc7-a121-4b23-866c-74b7988aa28d",
   "metadata": {},
   "outputs": [
    {
     "name": "stdout",
     "output_type": "stream",
     "text": [
      "True\n"
     ]
    }
   ],
   "source": [
    "Name = \"Manish\"\n",
    "print(isinstance(Name, str))"
   ]
  }
 ],
 "metadata": {
  "kernelspec": {
   "display_name": "Python 3 (ipykernel)",
   "language": "python",
   "name": "python3"
  },
  "language_info": {
   "codemirror_mode": {
    "name": "ipython",
    "version": 3
   },
   "file_extension": ".py",
   "mimetype": "text/x-python",
   "name": "python",
   "nbconvert_exporter": "python",
   "pygments_lexer": "ipython3",
   "version": "3.11.7"
  }
 },
 "nbformat": 4,
 "nbformat_minor": 5
}
