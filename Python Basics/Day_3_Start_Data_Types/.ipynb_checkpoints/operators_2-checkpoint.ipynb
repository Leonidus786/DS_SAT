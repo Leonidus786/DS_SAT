{
 "cells": [
  {
   "cell_type": "markdown",
   "id": "90211e46-f2ac-4617-a3f0-1527b70ac0f5",
   "metadata": {},
   "source": [
    "# Logical operators"
   ]
  },
  {
   "cell_type": "code",
   "execution_count": 1,
   "id": "dfc9ea11-ca5a-42f0-b812-a3060ee227e8",
   "metadata": {},
   "outputs": [],
   "source": [
    "a = -25"
   ]
  },
  {
   "cell_type": "code",
   "execution_count": 2,
   "id": "205b0ac2-208f-47ba-a5ed-3c42935aed16",
   "metadata": {},
   "outputs": [
    {
     "data": {
      "text/plain": [
       "False"
      ]
     },
     "execution_count": 2,
     "metadata": {},
     "output_type": "execute_result"
    }
   ],
   "source": [
    "a < -50 and a > -30"
   ]
  },
  {
   "cell_type": "code",
   "execution_count": 3,
   "id": "a1ee542a-cf0a-433e-abd4-fa556427ca0c",
   "metadata": {},
   "outputs": [
    {
     "data": {
      "text/plain": [
       "True"
      ]
     },
     "execution_count": 3,
     "metadata": {},
     "output_type": "execute_result"
    }
   ],
   "source": [
    "a > -50 and a > -30"
   ]
  },
  {
   "cell_type": "code",
   "execution_count": 4,
   "id": "55a40f58-eba0-4723-b397-dceab4b77abd",
   "metadata": {},
   "outputs": [
    {
     "data": {
      "text/plain": [
       "True"
      ]
     },
     "execution_count": 4,
     "metadata": {},
     "output_type": "execute_result"
    }
   ],
   "source": [
    "a < -50 or a > -30"
   ]
  },
  {
   "cell_type": "code",
   "execution_count": 6,
   "id": "4049d75e-e9ad-4688-84a8-cd0fcc9d681b",
   "metadata": {},
   "outputs": [
    {
     "name": "stdout",
     "output_type": "stream",
     "text": [
      "False\n"
     ]
    }
   ],
   "source": [
    "x = 5\n",
    "\n",
    "print(not(x > 3 and x < 10))"
   ]
  },
  {
   "cell_type": "code",
   "execution_count": 7,
   "id": "f112385c-2e7a-45e9-9dba-aa2149c1291e",
   "metadata": {},
   "outputs": [
    {
     "data": {
      "text/plain": [
       "2"
      ]
     },
     "execution_count": 7,
     "metadata": {},
     "output_type": "execute_result"
    }
   ],
   "source": [
    "# Bitwise AND (&)\n",
    "7 & 10"
   ]
  },
  {
   "cell_type": "code",
   "execution_count": 8,
   "id": "da8802b2-d88e-45ad-ba3a-d50f41e2a32b",
   "metadata": {},
   "outputs": [
    {
     "data": {
      "text/plain": [
       "15"
      ]
     },
     "execution_count": 8,
     "metadata": {},
     "output_type": "execute_result"
    }
   ],
   "source": [
    "7 | 10"
   ]
  },
  {
   "cell_type": "code",
   "execution_count": 9,
   "id": "99927e25-a13a-49d7-bfee-f218d0515906",
   "metadata": {},
   "outputs": [
    {
     "data": {
      "text/plain": [
       "13"
      ]
     },
     "execution_count": 9,
     "metadata": {},
     "output_type": "execute_result"
    }
   ],
   "source": [
    "7 ^ 10"
   ]
  },
  {
   "cell_type": "code",
   "execution_count": 10,
   "id": "c66f242f-dc83-490a-9cb1-457a27f2e447",
   "metadata": {},
   "outputs": [
    {
     "data": {
      "text/plain": [
       "-8"
      ]
     },
     "execution_count": 10,
     "metadata": {},
     "output_type": "execute_result"
    }
   ],
   "source": [
    "~7"
   ]
  },
  {
   "cell_type": "code",
   "execution_count": 11,
   "id": "ea3489c1-8dff-439d-b1e3-f2ce885cdef4",
   "metadata": {},
   "outputs": [
    {
     "data": {
      "text/plain": [
       "-11"
      ]
     },
     "execution_count": 11,
     "metadata": {},
     "output_type": "execute_result"
    }
   ],
   "source": [
    "~10"
   ]
  },
  {
   "cell_type": "code",
   "execution_count": 12,
   "id": "f2770637-4a65-4147-8445-f503a820e3dc",
   "metadata": {},
   "outputs": [
    {
     "data": {
      "text/plain": [
       "28"
      ]
     },
     "execution_count": 12,
     "metadata": {},
     "output_type": "execute_result"
    }
   ],
   "source": [
    "7 << 2"
   ]
  },
  {
   "cell_type": "code",
   "execution_count": 13,
   "id": "9565efdf-d74b-42c5-8867-39ed516d3e08",
   "metadata": {},
   "outputs": [
    {
     "data": {
      "text/plain": [
       "1"
      ]
     },
     "execution_count": 13,
     "metadata": {},
     "output_type": "execute_result"
    }
   ],
   "source": [
    "7 >> 2"
   ]
  },
  {
   "cell_type": "code",
   "execution_count": 14,
   "id": "0beb862b-f3d6-4049-8a15-ce1c0d668ba3",
   "metadata": {},
   "outputs": [],
   "source": [
    "# PEMDAS -- Parentheses, Exponent, Multiplication, Divison, Addition and Subtraction"
   ]
  },
  {
   "cell_type": "code",
   "execution_count": 15,
   "id": "c620ec81-c576-42e3-afa2-e20da4532e1f",
   "metadata": {},
   "outputs": [
    {
     "name": "stdout",
     "output_type": "stream",
     "text": [
      "7.0\n"
     ]
    }
   ],
   "source": [
    "print(3 * 3 + 3 / 3 - 3)"
   ]
  },
  {
   "cell_type": "code",
   "execution_count": 18,
   "id": "2bcd1b1e-b467-40aa-bbce-b31c1f297885",
   "metadata": {},
   "outputs": [
    {
     "name": "stdout",
     "output_type": "stream",
     "text": [
      "3.0\n"
     ]
    }
   ],
   "source": [
    "print(3 * (3 + 3) / 3 - 3)"
   ]
  }
 ],
 "metadata": {
  "kernelspec": {
   "display_name": "Python 3 (ipykernel)",
   "language": "python",
   "name": "python3"
  },
  "language_info": {
   "codemirror_mode": {
    "name": "ipython",
    "version": 3
   },
   "file_extension": ".py",
   "mimetype": "text/x-python",
   "name": "python",
   "nbconvert_exporter": "python",
   "pygments_lexer": "ipython3",
   "version": "3.11.7"
  }
 },
 "nbformat": 4,
 "nbformat_minor": 5
}
