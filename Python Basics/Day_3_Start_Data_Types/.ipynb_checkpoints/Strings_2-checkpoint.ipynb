{
 "cells": [
  {
   "cell_type": "code",
   "execution_count": 1,
   "id": "8a876c8c-1d3d-4d55-8b30-884d8aa4c78c",
   "metadata": {},
   "outputs": [
    {
     "ename": "TypeError",
     "evalue": "can only concatenate str (not \"int\") to str",
     "output_type": "error",
     "traceback": [
      "\u001b[1;31m---------------------------------------------------------------------------\u001b[0m",
      "\u001b[1;31mTypeError\u001b[0m                                 Traceback (most recent call last)",
      "Cell \u001b[1;32mIn[1], line 3\u001b[0m\n\u001b[0;32m      1\u001b[0m Number \u001b[38;5;241m=\u001b[39m \u001b[38;5;241m86\u001b[39m\n\u001b[1;32m----> 3\u001b[0m \u001b[38;5;28mprint\u001b[39m(\u001b[38;5;124m\"\u001b[39m\u001b[38;5;124mI\u001b[39m\u001b[38;5;124m'\u001b[39m\u001b[38;5;124mve got \u001b[39m\u001b[38;5;124m\"\u001b[39m\u001b[38;5;241m+\u001b[39m Number \u001b[38;5;241m+\u001b[39m \u001b[38;5;124m'\u001b[39m\u001b[38;5;124m in Maths\u001b[39m\u001b[38;5;124m'\u001b[39m)\n",
      "\u001b[1;31mTypeError\u001b[0m: can only concatenate str (not \"int\") to str"
     ]
    }
   ],
   "source": [
    "Number = 86\n",
    "\n",
    "print(\"I've got \"+ Number + ' in Maths')"
   ]
  },
  {
   "cell_type": "code",
   "execution_count": 2,
   "id": "c499738f-9891-406b-8ce7-72bc8464783c",
   "metadata": {},
   "outputs": [
    {
     "data": {
      "text/plain": [
       "int"
      ]
     },
     "execution_count": 2,
     "metadata": {},
     "output_type": "execute_result"
    }
   ],
   "source": [
    "type(Number)"
   ]
  },
  {
   "cell_type": "code",
   "execution_count": 3,
   "id": "f0bc946d-d06c-4d6b-b98b-97b2cdcdd067",
   "metadata": {},
   "outputs": [
    {
     "name": "stdout",
     "output_type": "stream",
     "text": [
      "I've got 86 in Maths\n"
     ]
    }
   ],
   "source": [
    "Number = str(Number)\n",
    "print(\"I've got \"+ Number + ' in Maths')"
   ]
  },
  {
   "cell_type": "code",
   "execution_count": 4,
   "id": "0ab9bdf5-e639-4de0-aebe-2cc0ad6c4fb7",
   "metadata": {},
   "outputs": [],
   "source": [
    "score = 0\n",
    "height = 1.8\n",
    "isWinning = True"
   ]
  },
  {
   "cell_type": "code",
   "execution_count": 6,
   "id": "29a908e3-b52e-430a-823f-7a729b133374",
   "metadata": {},
   "outputs": [
    {
     "name": "stdout",
     "output_type": "stream",
     "text": [
      "Your score is 0, your height is 1.8, your winning is True\n"
     ]
    }
   ],
   "source": [
    "print(\"Your score is \"+str(score) +\", your height is \"+str(height) +\", your winning is \"+str(isWinning))"
   ]
  },
  {
   "cell_type": "code",
   "execution_count": 9,
   "id": "8df13a04-eeda-430a-83a9-dee956b9d119",
   "metadata": {},
   "outputs": [
    {
     "name": "stdout",
     "output_type": "stream",
     "text": [
      "Your scor is 0, your height is 1.8, your winning is True\n"
     ]
    }
   ],
   "source": [
    "print(f\"Your scor is {score}, your height is {height}, your winning is {isWinning}\")"
   ]
  },
  {
   "cell_type": "code",
   "execution_count": 10,
   "id": "5ccba26d-d41b-4073-9bfc-c96ef764ec82",
   "metadata": {},
   "outputs": [
    {
     "name": "stdout",
     "output_type": "stream",
     "text": [
      "Your score is 0, your height is 1.8, your winning is True\n"
     ]
    }
   ],
   "source": [
    "print(f\"Your score is {score}, your height is {height}, your winning is {isWinning}\")"
   ]
  },
  {
   "cell_type": "code",
   "execution_count": 11,
   "id": "a97ef197-b8ff-4dc8-8734-833344f06647",
   "metadata": {},
   "outputs": [
    {
     "name": "stdout",
     "output_type": "stream",
     "text": [
      "The price is 59.00 dollars\n"
     ]
    }
   ],
   "source": [
    "price = 59\n",
    "txt = f\"The price is {price:.2f} dollars\"\n",
    "print(txt)"
   ]
  },
  {
   "cell_type": "code",
   "execution_count": 12,
   "id": "dad0e87d-07bf-43b0-bae9-77b90e393bdd",
   "metadata": {},
   "outputs": [
    {
     "ename": "SyntaxError",
     "evalue": "invalid syntax (7934146.py, line 1)",
     "output_type": "error",
     "traceback": [
      "\u001b[1;36m  Cell \u001b[1;32mIn[12], line 1\u001b[1;36m\u001b[0m\n\u001b[1;33m    txt = \"We are the so-called \"Vikings\" from the north.\"\u001b[0m\n\u001b[1;37m                                 ^\u001b[0m\n\u001b[1;31mSyntaxError\u001b[0m\u001b[1;31m:\u001b[0m invalid syntax\n"
     ]
    }
   ],
   "source": [
    "txt = \"We are the so-called \"Vikings\" from the north.\""
   ]
  },
  {
   "cell_type": "code",
   "execution_count": 13,
   "id": "9f195420-e9c5-42be-b095-82bf152a2c23",
   "metadata": {},
   "outputs": [
    {
     "data": {
      "text/plain": [
       "\"We are the so-called 'Vikings' from the north.\""
      ]
     },
     "execution_count": 13,
     "metadata": {},
     "output_type": "execute_result"
    }
   ],
   "source": [
    "txt = \"We are the so-called 'Vikings' from the north.\"\n",
    "txt"
   ]
  },
  {
   "cell_type": "code",
   "execution_count": 14,
   "id": "e6c28238-7143-4b82-84c4-192a33c25b2a",
   "metadata": {},
   "outputs": [
    {
     "data": {
      "text/plain": [
       "'We are the so-called \"Vikings\" from the north.'"
      ]
     },
     "execution_count": 14,
     "metadata": {},
     "output_type": "execute_result"
    }
   ],
   "source": [
    "txt = 'We are the so-called \"Vikings\" from the north.'\n",
    "txt"
   ]
  },
  {
   "cell_type": "code",
   "execution_count": 15,
   "id": "69c30ca9-5b29-4072-b4b3-0890d3c06dc2",
   "metadata": {},
   "outputs": [
    {
     "data": {
      "text/plain": [
       "'We are the so-called \"Vikings\" from the north.'"
      ]
     },
     "execution_count": 15,
     "metadata": {},
     "output_type": "execute_result"
    }
   ],
   "source": [
    "txt = \"We are the so-called \\\"Vikings\\\" from the north.\"\n",
    "txt"
   ]
  }
 ],
 "metadata": {
  "kernelspec": {
   "display_name": "Python 3 (ipykernel)",
   "language": "python",
   "name": "python3"
  },
  "language_info": {
   "codemirror_mode": {
    "name": "ipython",
    "version": 3
   },
   "file_extension": ".py",
   "mimetype": "text/x-python",
   "name": "python",
   "nbconvert_exporter": "python",
   "pygments_lexer": "ipython3",
   "version": "3.11.7"
  }
 },
 "nbformat": 4,
 "nbformat_minor": 5
}
