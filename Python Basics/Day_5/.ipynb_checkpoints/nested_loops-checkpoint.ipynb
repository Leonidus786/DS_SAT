{
 "cells": [
  {
   "cell_type": "code",
   "execution_count": 2,
   "id": "2874a72e-0d5d-48f1-aafa-5ab797015d67",
   "metadata": {},
   "outputs": [],
   "source": [
    "list2 = ['healthy', 'fine', 'geek']"
   ]
  },
  {
   "cell_type": "code",
   "execution_count": 3,
   "id": "678ecb8d-0143-40b1-8b12-6f64d19baae7",
   "metadata": {},
   "outputs": [
    {
     "data": {
      "text/plain": [
       "'fine'"
      ]
     },
     "execution_count": 3,
     "metadata": {},
     "output_type": "execute_result"
    }
   ],
   "source": [
    "list2[1]"
   ]
  },
  {
   "cell_type": "code",
   "execution_count": 1,
   "id": "6b8a5cfb-d029-4c6f-9e46-702e13707d4c",
   "metadata": {},
   "outputs": [
    {
     "name": "stdout",
     "output_type": "stream",
     "text": [
      "1 4\n",
      "1 5\n",
      "2 4\n",
      "2 5\n"
     ]
    }
   ],
   "source": [
    "x = [1, 2]\n",
    "y = [4, 5]\n",
    "\n",
    "for i in x:\n",
    "  for j in y:\n",
    "    print(i, j)"
   ]
  },
  {
   "cell_type": "code",
   "execution_count": 4,
   "id": "7d6ae263-e697-4658-a6c4-886f49272e18",
   "metadata": {},
   "outputs": [
    {
     "name": "stdout",
     "output_type": "stream",
     "text": [
      "start outer for loop \n",
      "I am  healthy\n",
      "I am  fine\n",
      "I am  geek\n",
      "end for loop \n",
      "start outer for loop \n",
      "You are  healthy\n",
      "You are  fine\n",
      "You are  geek\n",
      "end for loop \n"
     ]
    }
   ],
   "source": [
    "# Initialize list1 and list2\n",
    "# with some strings\n",
    "list1 = ['I am ', 'You are ']\n",
    "list2 = ['healthy', 'fine', 'geek']\n",
    "\n",
    "# Store length of list2 in list2_size\n",
    "list2_size = len(list2)\n",
    "\n",
    "# Running outer for loop to\n",
    "# iterate through a list1.\n",
    "for item in list1:\n",
    "  \n",
    "    # Printing outside inner loop\n",
    "    print(\"start outer for loop \")\n",
    "    # Initialize counter i with 0\n",
    "    i = 0\n",
    "    # Running inner While loop to\n",
    "    # iterate through a list2.\n",
    "    while(i < list2_size):\n",
    "      \n",
    "        # Printing inside inner loop\n",
    "        print(item, list2[i])\n",
    "        # Incrementing the value of i\n",
    "        i = i+1\n",
    "    # Printing outside inner loop\n",
    "    print(\"end for loop \")"
   ]
  },
  {
   "cell_type": "code",
   "execution_count": null,
   "id": "f30ed2a3-7d45-4abf-acb7-587b892ebdec",
   "metadata": {},
   "outputs": [],
   "source": []
  }
 ],
 "metadata": {
  "kernelspec": {
   "display_name": "Python 3 (ipykernel)",
   "language": "python",
   "name": "python3"
  },
  "language_info": {
   "codemirror_mode": {
    "name": "ipython",
    "version": 3
   },
   "file_extension": ".py",
   "mimetype": "text/x-python",
   "name": "python",
   "nbconvert_exporter": "python",
   "pygments_lexer": "ipython3",
   "version": "3.11.7"
  }
 },
 "nbformat": 4,
 "nbformat_minor": 5
}
