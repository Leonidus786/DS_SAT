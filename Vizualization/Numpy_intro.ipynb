{
 "cells": [
  {
   "cell_type": "markdown",
   "id": "919d4d50-ed71-43ee-87f9-14a17d53c74a",
   "metadata": {},
   "source": [
    "Array is a linear data structure where all elements are arranged sequentially. It is a collection of elements of same data type stored at contiguous memory locations. "
   ]
  },
  {
   "cell_type": "markdown",
   "id": "c7113042-cada-4842-bc1b-e0ab96ea26d5",
   "metadata": {},
   "source": [
    "## Numpy :-\n",
    "NumPy is a Python library used for working with arrays.\r\n",
    "\r\n",
    "It also has functions for working in domain of linear algebra, fourier transform, and matrices.\r\n",
    "\r\n",
    "NumPy was created in 2005 by Travis Oliphant. It is an open source project and you can use it freely.\r\n",
    "\r\n",
    "NumPy stands for Numerical Python."
   ]
  },
  {
   "cell_type": "markdown",
   "id": "df8b9c6b-14b1-4e1d-a27a-faa93a655cfa",
   "metadata": {},
   "source": [
    "### for installing numpy\n",
    "pip install numpy "
   ]
  },
  {
   "cell_type": "code",
   "execution_count": 1,
   "id": "04daab2f-221d-429c-86ba-0bdba46dc353",
   "metadata": {},
   "outputs": [],
   "source": [
    "import numpy as np"
   ]
  },
  {
   "cell_type": "code",
   "execution_count": 2,
   "id": "8231b773-8215-4e56-8552-8ceaf0e3bc79",
   "metadata": {},
   "outputs": [],
   "source": [
    "my_arr = np.array([1, 2.5, 3+2j, \"Sapna\"])"
   ]
  },
  {
   "cell_type": "code",
   "execution_count": 3,
   "id": "98f405bd-1ce7-4d13-addd-47bc5c2b50d9",
   "metadata": {},
   "outputs": [
    {
     "data": {
      "text/plain": [
       "numpy.ndarray"
      ]
     },
     "execution_count": 3,
     "metadata": {},
     "output_type": "execute_result"
    }
   ],
   "source": [
    "type(my_arr)"
   ]
  },
  {
   "cell_type": "code",
   "execution_count": 4,
   "id": "6032a846-c422-4b72-9172-59a4ec7758c3",
   "metadata": {},
   "outputs": [
    {
     "data": {
      "text/plain": [
       "array(['1', '2.5', '(3+2j)', 'Sapna'], dtype='<U64')"
      ]
     },
     "execution_count": 4,
     "metadata": {},
     "output_type": "execute_result"
    }
   ],
   "source": [
    "my_arr"
   ]
  },
  {
   "cell_type": "code",
   "execution_count": 5,
   "id": "09b9d1b6-2b18-41b3-a8d5-e5948522b101",
   "metadata": {},
   "outputs": [
    {
     "data": {
      "text/plain": [
       "[1, 2.5, (3+2j), 'Sapna']"
      ]
     },
     "execution_count": 5,
     "metadata": {},
     "output_type": "execute_result"
    }
   ],
   "source": [
    "sample = [1, 2.5, 3+2j, \"Sapna\"]\n",
    "sample"
   ]
  },
  {
   "cell_type": "code",
   "execution_count": 6,
   "id": "052b2c49-6bef-42fb-99d3-a5bd4d2ec4a7",
   "metadata": {},
   "outputs": [
    {
     "name": "stdout",
     "output_type": "stream",
     "text": [
      "1.26.4\n"
     ]
    }
   ],
   "source": [
    "print(np.__version__)"
   ]
  },
  {
   "cell_type": "code",
   "execution_count": 7,
   "id": "4ad7f557-88ad-4041-8774-5df97897755c",
   "metadata": {},
   "outputs": [],
   "source": [
    "my_arr_1 = np.array([1, 2.5, 3+2j])"
   ]
  },
  {
   "cell_type": "code",
   "execution_count": 8,
   "id": "3086b2e1-63ea-4adc-b2dc-0e09ec9cf9d2",
   "metadata": {},
   "outputs": [
    {
     "data": {
      "text/plain": [
       "numpy.ndarray"
      ]
     },
     "execution_count": 8,
     "metadata": {},
     "output_type": "execute_result"
    }
   ],
   "source": [
    "type(my_arr_1)"
   ]
  },
  {
   "cell_type": "code",
   "execution_count": 9,
   "id": "eebbc9ad-08f9-437a-ae50-4fd6ab4ea8be",
   "metadata": {},
   "outputs": [
    {
     "data": {
      "text/plain": [
       "array([1. +0.j, 2.5+0.j, 3. +2.j])"
      ]
     },
     "execution_count": 9,
     "metadata": {},
     "output_type": "execute_result"
    }
   ],
   "source": [
    "my_arr_1"
   ]
  },
  {
   "cell_type": "markdown",
   "id": "de7a7083-3c09-4cdf-836b-4d75eaf8af9e",
   "metadata": {},
   "source": [
    "(1, 2, 3, 4, 5)"
   ]
  },
  {
   "cell_type": "code",
   "execution_count": 10,
   "id": "b689df07-fe3d-4e37-b4a7-e40178b802ca",
   "metadata": {},
   "outputs": [
    {
     "name": "stdout",
     "output_type": "stream",
     "text": [
      "[1 2 3 4 5]\n"
     ]
    }
   ],
   "source": [
    "arr = np.array((1, 2, 3, 4, 5))\n",
    "\n",
    "print(arr)"
   ]
  }
 ],
 "metadata": {
  "kernelspec": {
   "display_name": "Python 3 (ipykernel)",
   "language": "python",
   "name": "python3"
  },
  "language_info": {
   "codemirror_mode": {
    "name": "ipython",
    "version": 3
   },
   "file_extension": ".py",
   "mimetype": "text/x-python",
   "name": "python",
   "nbconvert_exporter": "python",
   "pygments_lexer": "ipython3",
   "version": "3.11.7"
  }
 },
 "nbformat": 4,
 "nbformat_minor": 5
}
